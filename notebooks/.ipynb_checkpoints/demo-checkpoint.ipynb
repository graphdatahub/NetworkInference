{
 "cells": [
  {
   "cell_type": "code",
   "execution_count": 1,
   "id": "5dfb061e-27a3-4534-83df-7655f6689c50",
   "metadata": {},
   "outputs": [],
   "source": [
    "import sys\n",
    "sys.path.append('../src')"
   ]
  },
  {
   "cell_type": "code",
   "execution_count": 2,
   "id": "23a33491-156e-4382-9126-e0376d4427cb",
   "metadata": {},
   "outputs": [],
   "source": [
    "from gso.manifolds import AlgebraicManifold, AlgebraicManifoldBis, plot_manifold\n",
    "from gso.graph_sampling import GraphSampler, GraphSamplerBis\n",
    "from gso.signal_generation import SignalGenerator"
   ]
  },
  {
   "cell_type": "code",
   "execution_count": 3,
   "id": "19c505e1-b331-43d8-a3b8-ba0baac12133",
   "metadata": {},
   "outputs": [],
   "source": [
    "import time\n",
    "import matplotlib.pyplot as plt\n",
    "import numpy as np\n",
    "import seaborn as sns"
   ]
  },
  {
   "cell_type": "markdown",
   "id": "21f698fd-e9c9-4181-b601-bf45e73598a2",
   "metadata": {},
   "source": [
    "## Algebraic Manifold"
   ]
  },
  {
   "cell_type": "code",
   "execution_count": 4,
   "id": "9e007f33-9638-40ae-af34-644fbe6d5586",
   "metadata": {},
   "outputs": [
    {
     "name": "stdout",
     "output_type": "stream",
     "text": [
      "AlgebraicManifold(num_equations=2, num_variables=4, max_degree=4, random_seed=22)\n",
      "2\n",
      "[-0.583078925282315*x0 + 0.461013293572337*x1**3 + 0.718363997042688*x2 + 0.693417971415281*x3, -0.458934333404338*x0**3 - 0.9772068378269*x1 + 0.623901841077373*x2**4 - 0.692700720411484*x3**4]\n",
      "Matrix([[-0.583078925282315, 1.38303988071701*x1**2, 0.718363997042688, 0.693417971415281], [-1.37680300021301*x0**2, -0.977206837826900, 2.49560736430949*x2**3, -2.77080288164594*x3**3]])\n"
     ]
    }
   ],
   "source": [
    "num_equations = 2\n",
    "num_variables = 4\n",
    "max_degree = 4\n",
    "seed = 22\n",
    "\n",
    "M = AlgebraicManifold(num_equations, num_variables, max_degree, seed)\n",
    "\n",
    "print(M)\n",
    "print(M.intrinsic_dim)\n",
    "print(M.get_equations())\n",
    "print(M.get_jacobian())"
   ]
  },
  {
   "cell_type": "code",
   "execution_count": 5,
   "id": "51d951f2-c1ab-4d5e-9b1f-f23dfec01cd6",
   "metadata": {},
   "outputs": [
    {
     "ename": "TypeError",
     "evalue": "plot_manifold() missing 1 required positional argument: 'variables'",
     "output_type": "error",
     "traceback": [
      "\u001b[31m---------------------------------------------------------------------------\u001b[39m",
      "\u001b[31mTypeError\u001b[39m                                 Traceback (most recent call last)",
      "\u001b[36mCell\u001b[39m\u001b[36m \u001b[39m\u001b[32mIn[5]\u001b[39m\u001b[32m, line 1\u001b[39m\n\u001b[32m----> \u001b[39m\u001b[32m1\u001b[39m \u001b[43mplot_manifold\u001b[49m\u001b[43m(\u001b[49m\u001b[43mM\u001b[49m\u001b[43m.\u001b[49m\u001b[43mequations\u001b[49m\u001b[43m,\u001b[49m\u001b[43m \u001b[49m\u001b[43mM\u001b[49m\u001b[43m.\u001b[49m\u001b[43mvariables\u001b[49m\u001b[43m)\u001b[49m\n",
      "\u001b[31mTypeError\u001b[39m: plot_manifold() missing 1 required positional argument: 'variables'"
     ]
    }
   ],
   "source": [
    "plot_manifold(M.equations, M.variables)"
   ]
  },
  {
   "cell_type": "markdown",
   "id": "ab1d0552-137a-4c39-933c-d2f5a56a3033",
   "metadata": {},
   "source": [
    "## Point Sampling\n",
    "\n",
    "Uniform sampling is required for $L\\to\\Delta_\\mathcal{M}$. Non-uniform sampling would converge to a weighted Laplace-Beltrami operator:\n",
    "$$\n",
    "\\Delta_\\rho f=\\Delta_\\mathcal{M}f+\\frac{\\nabla\\rho}{\\rho}\\cdot \\nabla f\n",
    "$$\n",
    "where $\\rho$ is the sampling density. We use random affine slicing to avoid ambient space bias, which produces samples with density proportional to the Riemannian measure."
   ]
  },
  {
   "cell_type": "code",
   "execution_count": 5,
   "id": "a27a02ac-fec6-45be-af59-39471032b9ac",
   "metadata": {},
   "outputs": [
    {
     "name": "stdout",
     "output_type": "stream",
     "text": [
      "Function took 2.9065 seconds\n",
      "99\n"
     ]
    }
   ],
   "source": [
    "start_time = time.perf_counter()\n",
    "point_cloud = M.sample(99)\n",
    "elapsed = time.perf_counter() - start_time\n",
    "\n",
    "print(f\"Function took {elapsed:.4f} seconds\")\n",
    "\n",
    "print(len(point_cloud))\n",
    "for x in point_cloud:\n",
    "    assert M._is_smooth(x)"
   ]
  },
  {
   "cell_type": "code",
   "execution_count": 6,
   "id": "cec147f2-31dc-4c37-ae92-86749b388c52",
   "metadata": {},
   "outputs": [
    {
     "name": "stdout",
     "output_type": "stream",
     "text": [
      "Function took 2.3611 seconds\n",
      "First 5x5 geodesic distances:\n",
      "[[       0.          1528966.440371   14496842.10501271   119880.12597658\n",
      "   1332532.95206685]\n",
      " [ 1528966.440371          0.          8229117.9070748   3362507.33865371\n",
      "   1263413.87272274]\n",
      " [14496842.10501271  8229117.9070748         0.         13430872.82343021\n",
      "   4211348.17777974]\n",
      " [  119880.12597658  3362507.33865371 13430872.82343021        0.\n",
      "    835133.00066659]\n",
      " [ 1332532.95206685  1263413.87272274  4211348.17777974   835133.00066659\n",
      "         0.        ]]\n"
     ]
    }
   ],
   "source": [
    "start_time = time.perf_counter()\n",
    "D = M.compute_geodesics(point_cloud)\n",
    "elapsed = time.perf_counter() - start_time\n",
    "\n",
    "print(f\"Function took {elapsed:.4f} seconds\")\n",
    "\n",
    "\n",
    "print(\"First 5x5 geodesic distances:\")\n",
    "print(D[:5, :5])"
   ]
  },
  {
   "cell_type": "code",
   "execution_count": 5,
   "id": "a51f82e5-16d7-4a31-8272-33887597df66",
   "metadata": {},
   "outputs": [],
   "source": [
    "def visualize_matrix(matrix, n: int = 100, figsize = (5, 4), title = None) -> None:\n",
    "    \"\"\"\n",
    "    Visualize weighted matrices as a square heatmap of size n by n.\n",
    "        \n",
    "    Args:\n",
    "        n: Number of points to include in the visualization\n",
    "    \"\"\"\n",
    "    n = min(n, matrix.shape[0])\n",
    "    \n",
    "    _, ax = plt.subplots(figsize=figsize)\n",
    "    sns.heatmap(matrix[:n, :n], square=True, annot=False, cmap='viridis', ax=ax)\n",
    "    if title is not None:\n",
    "        ax.set_title(title)\n",
    "    plt.show()"
   ]
  },
  {
   "cell_type": "code",
   "execution_count": null,
   "id": "f8680f16-0216-4acd-aa49-8aa486bd5e91",
   "metadata": {},
   "outputs": [],
   "source": [
    "visualize_distances(D, title='Geodesic Distance Matrix')"
   ]
  },
  {
   "cell_type": "code",
   "execution_count": null,
   "id": "ad0ff282-e12a-4558-b5fc-174fbc57c162",
   "metadata": {},
   "outputs": [],
   "source": [
    "plot_manifold(M.equations, M.variables, points=point_cloud)"
   ]
  },
  {
   "cell_type": "markdown",
   "id": "69f29fe7-ef69-419c-8ae7-e1178c57685b",
   "metadata": {},
   "source": [
    "## Graph Generator\n",
    "\n",
    "Create a graph structure (sparse matrix: csr_matrix), e.g. from SBM model. Then create a weighted graph based on the structure and a manifold. "
   ]
  },
  {
   "cell_type": "markdown",
   "id": "d971f0be-a5d0-4f28-b44f-cad894a6aa80",
   "metadata": {},
   "source": [
    "The graph Laplacian $L$ approximates the generator of heat diffusion on the manifold $\\mathcal{M}$. For a smooth function $f$ on $\\mathcal{M}$:\n",
    "\n",
    "$$\n",
    "-c_n L f \\approx \\Delta_{\\mathcal{M}} f\n",
    "$$\n",
    "\n",
    "where $c_n = \\epsilon^{-(d/2 + 1)}$ scales the Laplacian to match the continuous operator. This links discrete graph dynamics to the PDE:\n",
    "\n",
    "$$\n",
    "\\frac{\\partial u}{\\partial t} = \\Delta_{\\mathcal{M}} u\n",
    "$$\n",
    "\n",
    "governing heat flow on $\\mathcal{M}$.\n",
    "\n",
    "The Gaussian kernel $W_{ij} = \\exp(-||x_i -x_j||^2/\\epsilon)$ approximates the **manifold heat kernel**:\n",
    "\n",
    "$$\n",
    "G_\\epsilon(x,y) \\propto \\epsilon^{-d/2} \\exp\\left(-\\frac{d_\\mathcal{M}(x,y)^2}{4\\epsilon}\\right)\n",
    "$$\n",
    "\n",
    "where $d_\\mathcal{M}$ is the geodesic distance. This ensures spectral convergence of $-c_n L$ to $\\Delta_{\\mathcal{M}}$ as $n \\to \\infty$.\n",
    "\n",
    "For $L \\to \\Delta_{\\mathcal{M}}$, three conditions must hold:\n",
    "\n",
    "| Condition | Mathematical Requirement | Purpose |\n",
    "|-----------|---------------------------|---------|\n",
    "| Bandwidth decay | $\\epsilon(n) \\sim \\left(\\frac{\\log n}{n}\\right)^{\\frac{2}{d+2}}$ | Balances locality vs connectivity |\n",
    "| Kernel normalization | $c_n = \\epsilon^{-(d/2 + 1)}$ | Compensates for kernel decay |\n",
    "| Sparsity | $\\text{avg degree} \\sim \\log n$ | Avoids overconnection |\n",
    "\n",
    "The critical rates ensure:\n",
    "$$\n",
    "\\sup_{x_i} | -c_n L f(x_i) - \\Delta_{\\mathcal{M}} f(x_i) | \\xrightarrow{n \\to \\infty} 0\n",
    "$$\n",
    "\n",
    "**1. Bandwidth Calculation**\n",
    "\n",
    "$$\n",
    "\\epsilon = C_M \\left( \\frac{\\log n}{n} \\right)^{\\frac{2}{d + 2}}\n",
    "$$\n",
    "\n",
    "- $C_M$: Manifold curvature constant\n",
    "- Derived from eigen-convergence rate optimization\n",
    "\n",
    "**2. Weight Assignment**\n",
    "\n",
    "For edge $(i,j)$ in sparse adjacency $S$:\n",
    "$$\n",
    "W_{ij} = \\exp\\left(-\\frac{||x_i -x_j||^2}{\\epsilon}\\right) \\cdot S_{ij}\n",
    "$$\n",
    "\n",
    "**3. Implementation Steps**\n",
    "\n",
    "1. Sample $\\{x_i\\} \\subset \\mathcal{M}$ uniformly\n",
    "2. Compute pairwise distances for edges in $S$\n",
    "3. Set $\\epsilon$ via above formula\n",
    "4. Construct $W$ using Gaussian kernel\n",
    "5. Form $L = D - W$ and scale by $c_n$\n",
    "\n",
    "This workflow guarantees spectral convergence to the Laplace-Beltrami operator."
   ]
  },
  {
   "cell_type": "code",
   "execution_count": 6,
   "id": "66e4845f-eef0-42d2-8a76-a2257880143e",
   "metadata": {},
   "outputs": [],
   "source": [
    "import networkx as nx\n",
    "from scipy.sparse import csr_matrix\n",
    "\n",
    "def create_sbm(sizes: list, probs: list, seed=None) -> csr_matrix:\n",
    "    \"\"\"\n",
    "    Generate SBM graph as compressed sparse row matrix.\n",
    "    \n",
    "    Parameters:\n",
    "    sizes : list of ints        # Nodes per community\n",
    "    probs : 2D list of floats   # Inter/intra-community edge probabilities\n",
    "    seed  : int (optional)      # Random seed\n",
    "    \n",
    "    Returns:\n",
    "    csr_matrix                  # Sparse adjacency matrix\n",
    "    \"\"\"\n",
    "    g = nx.stochastic_block_model(sizes, probs, seed=seed)\n",
    "    return nx.adjacency_matrix(g).tocsr()"
   ]
  },
  {
   "cell_type": "code",
   "execution_count": 7,
   "id": "987c7590-81c7-411a-afe2-6e71f0bc1fe8",
   "metadata": {},
   "outputs": [],
   "source": [
    "sizes = [33, 33, 33]\n",
    "probs = np.array([[0.3, 0.01, 0.02],\n",
    "                  [0.01, 0.25, 0.03],\n",
    "                  [0.02, 0.03, 0.2]])\n",
    "structure = create_sbm(sizes, probs, seed)"
   ]
  },
  {
   "cell_type": "code",
   "execution_count": 9,
   "id": "b8a8df41-4be3-4dc2-b56c-d23b1cecaec5",
   "metadata": {},
   "outputs": [],
   "source": [
    "L, W, point_cloud, epsilon = GraphSamplerBis().create_weighted_graph(M, 99, structure)"
   ]
  },
  {
   "cell_type": "code",
   "execution_count": 10,
   "id": "317bab91-01c9-42a5-bfa4-539c082cef6a",
   "metadata": {
    "scrolled": true
   },
   "outputs": [
    {
     "data": {
      "image/png": "[encoded data removed]",
      "text/plain": [
       "<Figure size 500x400 with 2 Axes>"
      ]
     },
     "metadata": {},
     "output_type": "display_data"
    },
    {
     "data": {
      "image/png": "[encoded data removed]",
      "text/plain": [
       "<Figure size 500x400 with 2 Axes>"
      ]
     },
     "metadata": {},
     "output_type": "display_data"
    }
   ],
   "source": [
    "visualize_matrix(W.toarray(), 99, title = \"Generated Weights\")\n",
    "visualize_matrix(L.toarray(), 99, title = \"Generated Laplacian\")"
   ]
  },
  {
   "cell_type": "code",
   "execution_count": 12,
   "id": "c8df4926-366b-48f3-80b7-35473a4a3e81",
   "metadata": {},
   "outputs": [
    {
     "ename": "AttributeError",
     "evalue": "'AlgebraicManifold' object has no attribute 'geodesic'",
     "output_type": "error",
     "traceback": [
      "\u001b[31m---------------------------------------------------------------------------\u001b[39m",
      "\u001b[31mAttributeError\u001b[39m                            Traceback (most recent call last)",
      "\u001b[36mCell\u001b[39m\u001b[36m \u001b[39m\u001b[32mIn[12]\u001b[39m\u001b[32m, line 1\u001b[39m\n\u001b[32m----> \u001b[39m\u001b[32m1\u001b[39m L, W, point_cloud, epsilon = \u001b[43mGraphSamplerBis\u001b[49m\u001b[43m(\u001b[49m\u001b[43m)\u001b[49m\u001b[43m.\u001b[49m\u001b[43mcreate_weighted_graph_from_structure\u001b[49m\u001b[43m(\u001b[49m\u001b[43mM\u001b[49m\u001b[43m,\u001b[49m\u001b[43m \u001b[49m\u001b[43mstructure\u001b[49m\u001b[43m)\u001b[49m\n\u001b[32m      2\u001b[39m visualize_matrix(W.toarray(), \u001b[32m99\u001b[39m, title = \u001b[33m\"\u001b[39m\u001b[33mGenerated Weights\u001b[39m\u001b[33m\"\u001b[39m)\n\u001b[32m      3\u001b[39m visualize_matrix(L.toarray(), \u001b[32m99\u001b[39m, title = \u001b[33m\"\u001b[39m\u001b[33mGenerated Laplacian\u001b[39m\u001b[33m\"\u001b[39m)\n",
      "\u001b[36mFile \u001b[39m\u001b[32m~/ghorg/graphdatahub/NetworkInference/notebooks/../src/gso/graph_sampling/samplerv2.py:117\u001b[39m, in \u001b[36mGraphSampler.create_weighted_graph_from_structure\u001b[39m\u001b[34m(self, manifold, structure_matrix, to_symmetric, normalized)\u001b[39m\n\u001b[32m    115\u001b[39m weights = []\n\u001b[32m    116\u001b[39m \u001b[38;5;28;01mfor\u001b[39;00m i, j \u001b[38;5;129;01min\u001b[39;00m \u001b[38;5;28mzip\u001b[39m(rows, cols):\n\u001b[32m--> \u001b[39m\u001b[32m117\u001b[39m     dist = \u001b[43mmanifold\u001b[49m\u001b[43m.\u001b[49m\u001b[43mgeodesic\u001b[49m(point_cloud[i], point_cloud[j])\n\u001b[32m    118\u001b[39m     weights.append(np.exp(-dist**\u001b[32m2\u001b[39m / epsilon))\n\u001b[32m    120\u001b[39m W = csr_matrix(\n\u001b[32m    121\u001b[39m     (np.array(weights), (rows, cols)), \n\u001b[32m    122\u001b[39m     shape=(n_nodes, n_nodes)\n\u001b[32m    123\u001b[39m )\n",
      "\u001b[31mAttributeError\u001b[39m: 'AlgebraicManifold' object has no attribute 'geodesic'"
     ]
    }
   ],
   "source": [
    "num_equations = 2\n",
    "num_variables = 4\n",
    "max_degree = 4\n",
    "seed = 22\n",
    "\n",
    "M = AlgebraicManifoldBis(num_equations, num_variables, max_degree, seed)\n",
    "\n",
    "L, W, point_cloud, epsilon = GraphSamplerBis().create_weighted_graph_from_structure(M, structure)\n",
    "visualize_matrix(W.toarray(), 99, title = \"Generated Weights\")\n",
    "visualize_matrix(L.toarray(), 99, title = \"Generated Laplacian\")"
   ]
  },
  {
   "cell_type": "markdown",
   "id": "668bcaf4-ae44-4db0-8983-08fb3eaad7f5",
   "metadata": {},
   "source": [
    "## Signal Generation"
   ]
  },
  {
   "cell_type": "markdown",
   "id": "23d71be2-08ff-4a20-9133-fa8a434474b8",
   "metadata": {},
   "source": [
    "## First Inference \n",
    "\n",
    "Learn weights from SBM structured graph signals, with and without structure knowledge."
   ]
  },
  {
   "cell_type": "markdown",
   "id": "3604fdeb-c482-4f86-89f5-71ffc5b7363a",
   "metadata": {},
   "source": [
    "## First Experiment\n",
    "\n",
    "Generate signals using the Kuramoto model, then try to apply MLE-type of learning method."
   ]
  },
  {
   "cell_type": "markdown",
   "id": "08f0601a-5068-4b9b-b71b-c6de9ce7ec99",
   "metadata": {},
   "source": [
    "## Second Experiment\n",
    "\n",
    "Get a first idea of how it scales with network size."
   ]
  },
  {
   "cell_type": "markdown",
   "id": "f8ed497b-cd6e-4cbf-a230-1ce64298739a",
   "metadata": {},
   "source": [
    "## Third Experiment\n",
    "\n",
    "Physics based spectrum (WDS without pumps is easier parralel) vs data-based"
   ]
  },
  {
   "cell_type": "code",
   "execution_count": null,
   "id": "bd919863-2d00-41b2-960f-398cec330e75",
   "metadata": {},
   "outputs": [],
   "source": []
  }
 ],
 "metadata": {
  "kernelspec": {
   "display_name": "Python 3 (ipykernel)",
   "language": "python",
   "name": "python3"
  },
  "language_info": {
   "codemirror_mode": {
    "name": "ipython",
    "version": 3
   },
   "file_extension": ".py",
   "mimetype": "text/x-python",
   "name": "python",
   "nbconvert_exporter": "python",
   "pygments_lexer": "ipython3",
   "version": "3.12.9"
  }
 },
 "nbformat": 4,
 "nbformat_minor": 5
}
